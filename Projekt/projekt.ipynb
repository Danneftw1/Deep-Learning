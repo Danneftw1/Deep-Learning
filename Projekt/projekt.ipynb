{
 "cells": [
  {
   "cell_type": "markdown",
   "metadata": {},
   "source": [
    "## Projektinstruktioner\n",
    "\n",
    "Du ska välja en av 5 uppgifter och försöka lösa problemet med hjälp av djupa neurala nätverk. Varje\n",
    "uppgift innehåller ett dataset och en problemformulering. Du ska själva ta fram vilken typ av\n",
    "modell som är lämplig för projektet, träna den, optimera hyperparametrar och utvärdera.\n",
    "\n",
    "- Du får inte lägga till egen data i projektet, men du ska städa datan.\n",
    "- Det är tillåtet med dataagumentering för att utöka ditt dataset.\n",
    "- Du ska skapa en modell från grunden, transfer learning får inte användas.\n",
    "\n",
    "### Krav för godkänt (G)\n",
    "- Skapa en modell från grunden. Du ansvarar själv för städning av datan och uppdelning i träning, validering och testning.\n",
    "**Frågor:**\n",
    "- Motivera din modell, dess arkitektur och val av relevanta hyperparametrar.\n",
    "- Har du använt någon databehandling? Varför?\n",
    "- Utvärdera modellens prestanda.\n",
    "- Är prestandan bra? Varför/ varför inte?\n",
    "- Vad hade du kunnat göra för att förbättra den ytterligare?\n",
    "\n",
    "### Krav för väl godkänt (VG)\n",
    "- För VG ska du utvärdera modellen noggrannare och systematiskt optimera hyperparametrar.\n",
    "**Frågor:**\n",
    "- Testa olika hyperparametrar systematiskt.\n",
    "- Vilken typ av fel gör modellen?\n",
    "  - Gör den fel på vissa klasser? Gör den fel specifik typ av data? Annat?\n",
    "  - Kan du göra något för att hantera vanliga fel modellen gör? (Med den data du har, att träna på mer data är inte ett godkänt svar)\n",
    "- Finns det några begränsningar med modellen?\n",
    "  - Exempelvis på grund av prestanda eller hur träningsdatan ser ut.\n",
    "\n",
    "### Presentation\n",
    "Förutom att lämna in en notebook ska du skapa en presentation (exempelvis en power point) där du ska\n",
    "presentera ert problem, vad för modell du skapat och hur den presterar. Ni kommer presentera i\n",
    "smågrupper.\n",
    "\n",
    "- Presentationen ska vara 10-15 minuter samt 5-10 minuter till frågor.\n",
    "- Det är obligatoriskt att presentera och vara med under alla presentationer i din grupp.\n",
    "- Du får vara med och lyssna på andra grupper om du vill."
   ]
  },
  {
   "cell_type": "markdown",
   "metadata": {},
   "source": [
    "### Min valda uppgift - Motverka hatretorik\n",
    "\n",
    "Denna uppgift innehåller hatiska texter riktad mot flera olika grupper och kan därmed vara jobbig för\n",
    "vissa att genomföra.\n",
    "\n",
    "På sociala medier och forum skrivs idag mycket hatiska texter, bpde mot personer och grupper. Oftast\n",
    "bevakas sociala medier och forum av moderatorer, men det är ett tidskrävande arbete och hat sprids\n",
    "snabbare än vad de hinner jobba. Genom att ha en modell som kan idetifiera denna typ av text så kan vi snabba på moderatorerna arbete och minska att hat sprids.\n",
    "\n",
    "**Uppgift:** Skapa en modell som kan identifiera om en text är hatisk mot en specifik grupp (och vilken grupp). Det är några typer av hat som ligger i fokus, exempelvis hat baserat å sexalitet eller kön. \n",
    "\n",
    "Hat mot exempelvis en yrkesgrupp räknas inte som en hatisk text. \n",
    "\n",
    "Dataset: ca 4000 texter, om den är hatisk och i så fall mot vilken grupp."
   ]
  },
  {
   "cell_type": "code",
   "execution_count": 47,
   "metadata": {},
   "outputs": [],
   "source": [
    "import pandas as pd\n",
    "import numpy as np\n",
    "from labb_2_functions import *\n",
    "\n",
    "pd.set_option('display.max_colwidth', None)\n",
    "\n",
    "df = pd.read_csv(\"hate-text.csv\")"
   ]
  },
  {
   "cell_type": "code",
   "execution_count": 25,
   "metadata": {},
   "outputs": [],
   "source": [
    "# changes column names\n",
    "df.columns = ['id', 'text', 'label', 'identity']"
   ]
  },
  {
   "cell_type": "code",
   "execution_count": 33,
   "metadata": {},
   "outputs": [
    {
     "name": "stdout",
     "output_type": "stream",
     "text": [
      "\n",
      "Rows that are ABOVE or EQUAL to 50 characters long: 1670\n",
      "Rows that are BELOW 50 characters long: 2231\n",
      "\n",
      "Rows that are ABOVE or EQUAL to 10 characters long: 1558\n",
      "Rows that are BELOW 10 characters long: 2343\n",
      "\n",
      "---LENGTH OF SENTENCES IN DATASET---\n",
      "Median Length Characters: 46\n",
      "Average Length Characters: 48.105613945142274\n",
      "Smallest Length Characters: 11\n",
      "Longest Length Characters: 104 \n",
      "\n",
      "Median Length Words: 9\n",
      "Average Length Words: 8.826454755190976\n",
      "Smallest Length Words: 2\n",
      "Longest Length Words: 20 \n",
      "\n"
     ]
    },
    {
     "data": {
      "text/plain": [
       "(None, None, None, None)"
      ]
     },
     "execution_count": 33,
     "metadata": {},
     "output_type": "execute_result"
    }
   ],
   "source": [
    "# re-use functions from RNN EDA\n",
    "character_counter = character_counter_for_sentences(df[\"text\"])\n",
    "word_counter = word_counter_for_sentences(df[\"text\"])\n",
    "\n",
    "word_or_character_length(50, character_counter)\n",
    "word_or_character_length(10, word_counter)\n",
    "print(\"\\n---LENGTH OF SENTENCES IN DATASET---\")\n",
    "\n",
    "print_metrics_for_characters_or_words(\"Characters\", character_counter)\n",
    "print_metrics_for_characters_or_words(\"Words\", word_counter)"
   ]
  },
  {
   "cell_type": "code",
   "execution_count": 34,
   "metadata": {},
   "outputs": [
    {
     "data": {
      "text/plain": [
       "array(['women', 'trans people', 'gay people', 'black people',\n",
       "       'disabled people', 'Muslims', 'immigrants', nan], dtype=object)"
      ]
     },
     "execution_count": 34,
     "metadata": {},
     "output_type": "execute_result"
    }
   ],
   "source": [
    "df[\"identity\"].unique()"
   ]
  },
  {
   "cell_type": "code",
   "execution_count": 45,
   "metadata": {},
   "outputs": [
    {
     "data": {
      "text/plain": [
       "id            0\n",
       "text          0\n",
       "label         0\n",
       "identity    295\n",
       "dtype: int64"
      ]
     },
     "execution_count": 45,
     "metadata": {},
     "output_type": "execute_result"
    }
   ],
   "source": [
    "df.isnull().sum()"
   ]
  },
  {
   "cell_type": "code",
   "execution_count": 46,
   "metadata": {},
   "outputs": [
    {
     "data": {
      "text/html": [
       "<div>\n",
       "<style scoped>\n",
       "    .dataframe tbody tr th:only-of-type {\n",
       "        vertical-align: middle;\n",
       "    }\n",
       "\n",
       "    .dataframe tbody tr th {\n",
       "        vertical-align: top;\n",
       "    }\n",
       "\n",
       "    .dataframe thead th {\n",
       "        text-align: right;\n",
       "    }\n",
       "</style>\n",
       "<table border=\"1\" class=\"dataframe\">\n",
       "  <thead>\n",
       "    <tr style=\"text-align: right;\">\n",
       "      <th></th>\n",
       "      <th>id</th>\n",
       "      <th>text</th>\n",
       "      <th>label</th>\n",
       "      <th>identity</th>\n",
       "    </tr>\n",
       "  </thead>\n",
       "  <tbody>\n",
       "    <tr>\n",
       "      <th>1271</th>\n",
       "      <td>1272</td>\n",
       "      <td>Fucking hell, what a day.</td>\n",
       "      <td>non-hateful</td>\n",
       "      <td>NaN</td>\n",
       "    </tr>\n",
       "    <tr>\n",
       "      <th>1272</th>\n",
       "      <td>1273</td>\n",
       "      <td>That's a great fucking idea.</td>\n",
       "      <td>non-hateful</td>\n",
       "      <td>NaN</td>\n",
       "    </tr>\n",
       "    <tr>\n",
       "      <th>1273</th>\n",
       "      <td>1274</td>\n",
       "      <td>No fucking way.</td>\n",
       "      <td>non-hateful</td>\n",
       "      <td>NaN</td>\n",
       "    </tr>\n",
       "    <tr>\n",
       "      <th>1274</th>\n",
       "      <td>1275</td>\n",
       "      <td>I'm so fucking excited.</td>\n",
       "      <td>non-hateful</td>\n",
       "      <td>NaN</td>\n",
       "    </tr>\n",
       "    <tr>\n",
       "      <th>1275</th>\n",
       "      <td>1276</td>\n",
       "      <td>Are you fucking kidding me?</td>\n",
       "      <td>non-hateful</td>\n",
       "      <td>NaN</td>\n",
       "    </tr>\n",
       "    <tr>\n",
       "      <th>...</th>\n",
       "      <td>...</td>\n",
       "      <td>...</td>\n",
       "      <td>...</td>\n",
       "      <td>...</td>\n",
       "    </tr>\n",
       "    <tr>\n",
       "      <th>3097</th>\n",
       "      <td>3098</td>\n",
       "      <td>Pro lifers should get the fuck out of our country.</td>\n",
       "      <td>non-hateful</td>\n",
       "      <td>NaN</td>\n",
       "    </tr>\n",
       "    <tr>\n",
       "      <th>3098</th>\n",
       "      <td>3099</td>\n",
       "      <td>Most gun dealers are seriously fucked in the head.</td>\n",
       "      <td>non-hateful</td>\n",
       "      <td>NaN</td>\n",
       "    </tr>\n",
       "    <tr>\n",
       "      <th>3099</th>\n",
       "      <td>3100</td>\n",
       "      <td>By nature, corporate accountants are just shitty human beings.</td>\n",
       "      <td>non-hateful</td>\n",
       "      <td>NaN</td>\n",
       "    </tr>\n",
       "    <tr>\n",
       "      <th>3100</th>\n",
       "      <td>3101</td>\n",
       "      <td>Most real estate agents are absolute bastards.</td>\n",
       "      <td>non-hateful</td>\n",
       "      <td>NaN</td>\n",
       "    </tr>\n",
       "    <tr>\n",
       "      <th>3101</th>\n",
       "      <td>3102</td>\n",
       "      <td>Of course that dumbass was a snowboarder.</td>\n",
       "      <td>non-hateful</td>\n",
       "      <td>NaN</td>\n",
       "    </tr>\n",
       "  </tbody>\n",
       "</table>\n",
       "<p>295 rows × 4 columns</p>\n",
       "</div>"
      ],
      "text/plain": [
       "        id                                                             text  \\\n",
       "1271  1272                                       Fucking hell, what a day.    \n",
       "1272  1273                                    That's a great fucking idea.    \n",
       "1273  1274                                                 No fucking way.    \n",
       "1274  1275                                         I'm so fucking excited.    \n",
       "1275  1276                                      Are you fucking kidding me?   \n",
       "...    ...                                                              ...   \n",
       "3097  3098              Pro lifers should get the fuck out of our country.    \n",
       "3098  3099              Most gun dealers are seriously fucked in the head.    \n",
       "3099  3100  By nature, corporate accountants are just shitty human beings.    \n",
       "3100  3101                  Most real estate agents are absolute bastards.    \n",
       "3101  3102                       Of course that dumbass was a snowboarder.    \n",
       "\n",
       "            label identity  \n",
       "1271  non-hateful      NaN  \n",
       "1272  non-hateful      NaN  \n",
       "1273  non-hateful      NaN  \n",
       "1274  non-hateful      NaN  \n",
       "1275  non-hateful      NaN  \n",
       "...           ...      ...  \n",
       "3097  non-hateful      NaN  \n",
       "3098  non-hateful      NaN  \n",
       "3099  non-hateful      NaN  \n",
       "3100  non-hateful      NaN  \n",
       "3101  non-hateful      NaN  \n",
       "\n",
       "[295 rows x 4 columns]"
      ]
     },
     "execution_count": 46,
     "metadata": {},
     "output_type": "execute_result"
    }
   ],
   "source": [
    "df[df[\"identity\"].isnull()]"
   ]
  },
  {
   "cell_type": "code",
   "execution_count": 37,
   "metadata": {},
   "outputs": [
    {
     "data": {
      "text/plain": [
       "gay people         577\n",
       "women              535\n",
       "disabled people    510\n",
       "Muslims            510\n",
       "black people       504\n",
       "trans people       485\n",
       "immigrants         485\n",
       "Name: identity, dtype: int64"
      ]
     },
     "execution_count": 37,
     "metadata": {},
     "output_type": "execute_result"
    }
   ],
   "source": [
    "df[\"identity\"].value_counts()"
   ]
  },
  {
   "cell_type": "code",
   "execution_count": 35,
   "metadata": {},
   "outputs": [
    {
     "data": {
      "text/plain": [
       "hateful        2659\n",
       "non-hateful    1242\n",
       "Name: label, dtype: int64"
      ]
     },
     "execution_count": 35,
     "metadata": {},
     "output_type": "execute_result"
    }
   ],
   "source": [
    "df[\"label\"].value_counts()"
   ]
  },
  {
   "cell_type": "markdown",
   "metadata": {},
   "source": [
    "identity column is balanced well, however, label column is not.\n",
    "\n",
    "#TODO data augmentation for label, keep in mind that identity column must still be balanced after label has had data augmented and added."
   ]
  },
  {
   "cell_type": "code",
   "execution_count": 48,
   "metadata": {},
   "outputs": [
    {
     "data": {
      "text/html": [
       "<div>\n",
       "<style scoped>\n",
       "    .dataframe tbody tr th:only-of-type {\n",
       "        vertical-align: middle;\n",
       "    }\n",
       "\n",
       "    .dataframe tbody tr th {\n",
       "        vertical-align: top;\n",
       "    }\n",
       "\n",
       "    .dataframe thead th {\n",
       "        text-align: right;\n",
       "    }\n",
       "</style>\n",
       "<table border=\"1\" class=\"dataframe\">\n",
       "  <thead>\n",
       "    <tr style=\"text-align: right;\">\n",
       "      <th></th>\n",
       "      <th>case_id</th>\n",
       "      <th>test_case</th>\n",
       "      <th>label_gold</th>\n",
       "      <th>target_ident</th>\n",
       "    </tr>\n",
       "  </thead>\n",
       "  <tbody>\n",
       "    <tr>\n",
       "      <th>0</th>\n",
       "      <td>1</td>\n",
       "      <td>I hate women.</td>\n",
       "      <td>hateful</td>\n",
       "      <td>women</td>\n",
       "    </tr>\n",
       "    <tr>\n",
       "      <th>1</th>\n",
       "      <td>2</td>\n",
       "      <td>I hate trans people.</td>\n",
       "      <td>hateful</td>\n",
       "      <td>trans people</td>\n",
       "    </tr>\n",
       "    <tr>\n",
       "      <th>2</th>\n",
       "      <td>3</td>\n",
       "      <td>I hate gay people.</td>\n",
       "      <td>hateful</td>\n",
       "      <td>gay people</td>\n",
       "    </tr>\n",
       "    <tr>\n",
       "      <th>3</th>\n",
       "      <td>4</td>\n",
       "      <td>I hate black people.</td>\n",
       "      <td>hateful</td>\n",
       "      <td>black people</td>\n",
       "    </tr>\n",
       "    <tr>\n",
       "      <th>4</th>\n",
       "      <td>5</td>\n",
       "      <td>I hate disabled people.</td>\n",
       "      <td>hateful</td>\n",
       "      <td>disabled people</td>\n",
       "    </tr>\n",
       "    <tr>\n",
       "      <th>...</th>\n",
       "      <td>...</td>\n",
       "      <td>...</td>\n",
       "      <td>...</td>\n",
       "      <td>...</td>\n",
       "    </tr>\n",
       "    <tr>\n",
       "      <th>3896</th>\n",
       "      <td>3897</td>\n",
       "      <td>Gay people are all complete 4ssholes.</td>\n",
       "      <td>hateful</td>\n",
       "      <td>gay people</td>\n",
       "    </tr>\n",
       "    <tr>\n",
       "      <th>3897</th>\n",
       "      <td>3898</td>\n",
       "      <td>Black people are all complete 4ssholes.</td>\n",
       "      <td>hateful</td>\n",
       "      <td>black people</td>\n",
       "    </tr>\n",
       "    <tr>\n",
       "      <th>3898</th>\n",
       "      <td>3899</td>\n",
       "      <td>Disabled people are all complete 4ssholes.</td>\n",
       "      <td>hateful</td>\n",
       "      <td>disabled people</td>\n",
       "    </tr>\n",
       "    <tr>\n",
       "      <th>3899</th>\n",
       "      <td>3900</td>\n",
       "      <td>Muslims are all complete 4ssholes.</td>\n",
       "      <td>hateful</td>\n",
       "      <td>Muslims</td>\n",
       "    </tr>\n",
       "    <tr>\n",
       "      <th>3900</th>\n",
       "      <td>3901</td>\n",
       "      <td>Immigrants are all complete 4ssholes.</td>\n",
       "      <td>hateful</td>\n",
       "      <td>immigrants</td>\n",
       "    </tr>\n",
       "  </tbody>\n",
       "</table>\n",
       "<p>3901 rows × 4 columns</p>\n",
       "</div>"
      ],
      "text/plain": [
       "      case_id                                    test_case label_gold  \\\n",
       "0           1                               I hate women.     hateful   \n",
       "1           2                        I hate trans people.     hateful   \n",
       "2           3                          I hate gay people.     hateful   \n",
       "3           4                        I hate black people.     hateful   \n",
       "4           5                     I hate disabled people.     hateful   \n",
       "...       ...                                          ...        ...   \n",
       "3896     3897       Gay people are all complete 4ssholes.     hateful   \n",
       "3897     3898     Black people are all complete 4ssholes.     hateful   \n",
       "3898     3899  Disabled people are all complete 4ssholes.     hateful   \n",
       "3899     3900          Muslims are all complete 4ssholes.     hateful   \n",
       "3900     3901       Immigrants are all complete 4ssholes.     hateful   \n",
       "\n",
       "         target_ident  \n",
       "0               women  \n",
       "1        trans people  \n",
       "2          gay people  \n",
       "3        black people  \n",
       "4     disabled people  \n",
       "...               ...  \n",
       "3896       gay people  \n",
       "3897     black people  \n",
       "3898  disabled people  \n",
       "3899          Muslims  \n",
       "3900       immigrants  \n",
       "\n",
       "[3901 rows x 4 columns]"
      ]
     },
     "execution_count": 48,
     "metadata": {},
     "output_type": "execute_result"
    }
   ],
   "source": []
  }
 ],
 "metadata": {
  "kernelspec": {
   "display_name": "Python 3",
   "language": "python",
   "name": "python3"
  },
  "language_info": {
   "codemirror_mode": {
    "name": "ipython",
    "version": 3
   },
   "file_extension": ".py",
   "mimetype": "text/x-python",
   "name": "python",
   "nbconvert_exporter": "python",
   "pygments_lexer": "ipython3",
   "version": "3.9.13"
  }
 },
 "nbformat": 4,
 "nbformat_minor": 2
}
