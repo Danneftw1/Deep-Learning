{
 "cells": [
  {
   "cell_type": "markdown",
   "metadata": {},
   "source": [
    "# RNN Labb (endast G)\n",
    "\n",
    "Ni ska skapa ett nätverk som kan klassificera känslor i text. Varje text består av en mening och har en känsla kopplad till sig. Datasetet som ska användas finns på ithsdistans. Koden ska skrivas i en jupyter notebook och den ska vara välstrukturerad och hålla god kod-kvalité. (T.ex. Använd väl valda variabelnamn och kommentarer där det behövs.)\n",
    "\n",
    "## Frågor:\n",
    "\n",
    "- **Motivera din modellarkitektur och val av relevanta hyperparametrar.**\n",
    "- **Vilka aktiveringsfunktioner har du använt? Varför?**\n",
    "- **Vilken loss funktion har du använt? Varför?**\n",
    "- **Har du använt någon databehandling? Motivera dina val.**\n",
    "- **Har du använt någon regulariseringsteknik? Motivera.**\n",
    "- **Hur har modellen utvärderats?**\n",
    "- **Är prestandan bra? Varför/ varför inte?**\n",
    "- **Vad hade du kunnat göra för att förbättra den ytterligare?**\n",
    "- **Generativ AI har blivit stort inom text. Beskriv skillnaden mellan generativ ai och mer traditionell ai.**"
   ]
  },
  {
   "cell_type": "markdown",
   "metadata": {},
   "source": [
    "*Funderingar*:\n",
    "\n",
    "- Ska jag göra någon data processing? Hur gör man det med RNN?\n",
    "\n",
    "- **RNN/LSTM/LSTM-GRU, vilken väljer jag?**\n",
    "    - RNN lider av vanishing gradient: svårt att lära sig beroenden över långa sekvenser\n",
    "    - LSTM är en avancerad variant av RNN, designad för att inte stöta på vanishing gradient\n",
    "    - LSTM-GRU: variant av RNN, liknande LSTM men med en enklare struktur.\n",
    "- **VAL**:\n",
    "    - **Enklare/Längre Sekvenser:** Grundläggande RNN\n",
    "    - **Komplex/Längre Sekvenser:** LSTM eller GRU\n",
    "    - **För Balans Mellan Prestanda & Komplexitet:** GRU, ofta enklare och snabbare att träna än LSTM, men har ändå relativt lika förmåner som LSTM.\n",
    "\n",
    "Jag tänker att jag börjar med en grundläggande RNN, då datasetet verkar inte jätte komplext.\n"
   ]
  },
  {
   "cell_type": "code",
   "execution_count": 74,
   "metadata": {},
   "outputs": [],
   "source": [
    "import pandas as pd\n",
    "from loguru import logger\n",
    "import tensorflow as tf\n",
    "from statistics import mean, median\n",
    "from nltk import FreqDist\n",
    "from nltk.corpus import stopwords\n",
    "from nltk.stem import PorterStemmer\n",
    "from nltk.tokenize import word_tokenize\n",
    "import matplotlib.pyplot as plt\n",
    "import seaborn as sns\n",
    "from sklearn.model_selection import train_test_split\n",
    "\n",
    "df = pd.read_csv(\"emotions.csv\")\n",
    "pd.set_option('display.max_colwidth', None) # to be able to read entire text"
   ]
  },
  {
   "cell_type": "code",
   "execution_count": 75,
   "metadata": {},
   "outputs": [
    {
     "name": "stdout",
     "output_type": "stream",
     "text": [
      "<class 'pandas.core.frame.DataFrame'>\n",
      "RangeIndex: 20000 entries, 0 to 19999\n",
      "Data columns (total 2 columns):\n",
      " #   Column  Non-Null Count  Dtype \n",
      "---  ------  --------------  ----- \n",
      " 0   text    20000 non-null  object\n",
      " 1   label   20000 non-null  object\n",
      "dtypes: object(2)\n",
      "memory usage: 312.6+ KB\n"
     ]
    }
   ],
   "source": [
    "df.info()"
   ]
  },
  {
   "cell_type": "code",
   "execution_count": 76,
   "metadata": {},
   "outputs": [
    {
     "data": {
      "text/plain": [
       "text     0\n",
       "label    0\n",
       "dtype: int64"
      ]
     },
     "execution_count": 76,
     "metadata": {},
     "output_type": "execute_result"
    }
   ],
   "source": [
    "df.isnull().sum()"
   ]
  },
  {
   "cell_type": "markdown",
   "metadata": {},
   "source": [
    "### Create new column that has word count of each sentence"
   ]
  },
  {
   "cell_type": "code",
   "execution_count": 77,
   "metadata": {},
   "outputs": [
    {
     "name": "stdout",
     "output_type": "stream",
     "text": [
      "---LENGTH OF SENTENCES IN DATASET (in characters)---\n",
      "Median Length Characters: 86.0\n",
      "Average Length Characters: 96.67005\n",
      "Smallest Length Characters: 7\n",
      "Longest Length Characters: 300\n",
      "\n",
      "---LENGTH OF SENTENCES IN DATASET (in words)---\n",
      "Median Length Words: 17.0\n",
      "Average Length Words: 19.13505\n",
      "Smallest Length Words: 2\n",
      "Longest Length Words: 66\n",
      "\n",
      "Rows that are ABOVE or EQUAL to 100 characters long: 8099\n",
      "Rows that are BELOW 100 characters long: 11901\n",
      "\n",
      "Example sentence with 100 character length:\n",
      " i the ultimate place to restore the peace to feel divine to kneel for worship and to attain hapiness\n",
      "\n",
      "Rows that are ABOVE or EQUAL to 20 words long: 8276\n",
      "Rows that are BELOW or EQUAL to 20 words long: 11724\n"
     ]
    }
   ],
   "source": [
    "text_rows = df[\"text\"]\n",
    "sentence_length_characters = []\n",
    "\n",
    "def character_counter_for_sentences():\n",
    "    for row, text in enumerate(text_rows.iloc):\n",
    "        sentence_length_characters.append(len(text))\n",
    "\n",
    "character_counter_for_sentences()\n",
    "df[\"character_amount\"] = sentence_length_characters # add new column with character length\n",
    "\n",
    "sentence_length_words = []\n",
    "\n",
    "def word_counter_for_sentences():\n",
    "    for row, text in enumerate(text_rows.iloc):\n",
    "        sentence_length_words.append(len(text.split()))\n",
    "\n",
    "word_counter_for_sentences()\n",
    "df[\"word_amount\"] = sentence_length_words # add new column with word length\n",
    "\n",
    "\n",
    "print(\"---LENGTH OF SENTENCES IN DATASET (in characters)---\")\n",
    "print(f\"Median Length Characters:\", median(sentence_length_characters))\n",
    "print(f\"Average Length Characters:\", mean(sentence_length_characters))\n",
    "print(f\"Smallest Length Characters:\", min(sentence_length_characters))\n",
    "print(f\"Longest Length Characters:\", max(sentence_length_characters))\n",
    "\n",
    "print(\"\\n---LENGTH OF SENTENCES IN DATASET (in words)---\")\n",
    "print(f\"Median Length Words:\", median(sentence_length_words))\n",
    "print(f\"Average Length Words:\", mean(sentence_length_words))\n",
    "print(f\"Smallest Length Words:\", min(sentence_length_words))\n",
    "print(f\"Longest Length Words:\", max(sentence_length_words))\n",
    "\n",
    "above_100_length = [length >= 100 for length in sentence_length_characters]\n",
    "is_above_100 = above_100_length.count(True)\n",
    "is_not_above_100 = above_100_length.count(False)\n",
    "\n",
    "print(f\"\\nRows that are ABOVE or EQUAL to 100 characters long: {is_above_100}\")\n",
    "print(f\"Rows that are BELOW 100 characters long: {is_not_above_100}\")\n",
    "\n",
    "print(f\"\\nExample sentence with 100 character length:\\n\", text_rows.iloc[9]) # manually looked for a sentence with 100 characters\n",
    "\n",
    "above_10_words = [length >= 20 for length in sentence_length_words]\n",
    "is_above_10 = above_10_words.count(True)\n",
    "is_not_above_10 = above_10_words.count(False)\n",
    "\n",
    "print(f\"\\nRows that are ABOVE or EQUAL to 20 words long: {is_above_10}\")\n",
    "print(f\"Rows that are BELOW or EQUAL to 20 words long: {is_not_above_10}\")"
   ]
  },
  {
   "cell_type": "code",
   "execution_count": 78,
   "metadata": {},
   "outputs": [
    {
     "data": {
      "image/png": "[encoded data removed]",
      "text/plain": [
       "<Figure size 1500x500 with 2 Axes>"
      ]
     },
     "metadata": {},
     "output_type": "display_data"
    }
   ],
   "source": [
    "fig, axs = plt.subplots(1, 2, figsize=(15, 5))\n",
    "\n",
    "sns.histplot(df['character_amount'], bins=50, kde=True, ax=axs[0])\n",
    "axs[0].set_title('Sentence length in characters')\n",
    "axs[0].set_xlabel('Characters')\n",
    "axs[0].set_ylabel('Amount')\n",
    "\n",
    "sns.histplot(df['word_amount'], bins=50, kde=True, ax=axs[1])\n",
    "axs[1].set_title('Sentence length in words')\n",
    "axs[1].set_xlabel('Words')\n",
    "axs[1].set_ylabel('Amount')\n",
    "\n",
    "plt.tight_layout()\n",
    "plt.show()"
   ]
  },
  {
   "cell_type": "markdown",
   "metadata": {},
   "source": [
    "### Emotions distribution"
   ]
  },
  {
   "cell_type": "code",
   "execution_count": 79,
   "metadata": {},
   "outputs": [
    {
     "name": "stdout",
     "output_type": "stream",
     "text": [
      "anger\n",
      "sadness\n",
      "joy\n",
      "love\n",
      "fear\n",
      "surprise\n",
      "\n",
      "joy         6761\n",
      "sadness     5797\n",
      "anger       2709\n",
      "fear        2373\n",
      "love        1641\n",
      "surprise     719\n",
      "Name: label, dtype: int64\n"
     ]
    }
   ],
   "source": [
    "emotions = df[\"label\"].unique()\n",
    "emotions_count = df[\"label\"].value_counts()\n",
    "\n",
    "for i in emotions:\n",
    "    print(i)\n",
    "\n",
    "print(f\"\\n{emotions_count}\")"
   ]
  },
  {
   "cell_type": "markdown",
   "metadata": {},
   "source": [
    "### add category encoding"
   ]
  },
  {
   "cell_type": "code",
   "execution_count": 80,
   "metadata": {},
   "outputs": [
    {
     "name": "stdout",
     "output_type": "stream",
     "text": [
      "anger: 0\n",
      "sadness: 1\n",
      "joy: 2\n",
      "love: 3\n",
      "fear: 4\n",
      "surprise: 5\n"
     ]
    }
   ],
   "source": [
    "df[\"emotion_label\"] = df[\"label\"].astype('category').cat.codes\n",
    "\n",
    "for i in range(len(emotions)):\n",
    "    print(f\"{emotions[i]}: {i}\")"
   ]
  },
  {
   "cell_type": "code",
   "execution_count": 81,
   "metadata": {},
   "outputs": [
    {
     "name": "stdout",
     "output_type": "stream",
     "text": [
      "X_train: (16000, 1)\n",
      "X_test: (2000, 1)\n",
      "X_val: (2000, 1)\n",
      "\n",
      "y_train: (16000, 1)\n",
      "y_test: (2000, 1)\n",
      "y_val: (2000, 1)\n"
     ]
    }
   ],
   "source": [
    "# train test validation split 80/10/10\n",
    "X = df[['text']] # double brackets to keep it as a dataframe, otherwise shape is (n,) instead of (n, 1)\n",
    "y = df[['emotion_label']]\n",
    "\n",
    "# I don't see people split the data like this for alot of deep learning guides online. Why?\n",
    "X_train, X_temp, y_train, y_temp = train_test_split(X, y, test_size=0.2, random_state=42)\n",
    "X_test, X_val, y_test, y_val = train_test_split(X_temp, y_temp, test_size=0.5, random_state=42)\n",
    "\n",
    "print(f\"X_train: {X_train.shape}\")\n",
    "print(f\"X_test: {X_test.shape}\")\n",
    "print(f\"X_val: {X_val.shape}\\n\")\n",
    "\n",
    "print(f\"y_train: {y_train.shape}\")\n",
    "print(f\"y_test: {y_test.shape}\")\n",
    "print(f\"y_val: {y_test.shape}\")"
   ]
  },
  {
   "cell_type": "markdown",
   "metadata": {},
   "source": [
    "### Removing stop words"
   ]
  },
  {
   "cell_type": "code",
   "execution_count": 82,
   "metadata": {},
   "outputs": [
    {
     "name": "stdout",
     "output_type": "stream",
     "text": [
      "\n",
      "Stopwords: ['i', 'me', 'my', 'myself', 'we', 'our', 'ours', 'ourselves', 'you', \"you're\", \"you've\", \"you'll\", \"you'd\", 'your', 'yours', 'yourself', 'yourselves', 'he', 'him', 'his', 'himself', 'she', \"she's\", 'her', 'hers', 'herself', 'it', \"it's\", 'its', 'itself', 'they', 'them', 'their', 'theirs', 'themselves', 'what', 'which', 'who', 'whom', 'this', 'that', \"that'll\", 'these', 'those', 'am', 'is', 'are', 'was', 'were', 'be', 'been', 'being', 'have', 'has', 'had', 'having', 'do', 'does', 'did', 'doing', 'a', 'an', 'the', 'and', 'but', 'if', 'or', 'because', 'as', 'until', 'while', 'of', 'at', 'by', 'for', 'with', 'about', 'against', 'between', 'into', 'through', 'during', 'before', 'after', 'above', 'below', 'to', 'from', 'up', 'down', 'in', 'out', 'on', 'off', 'over', 'under', 'again', 'further', 'then', 'once', 'here', 'there', 'when', 'where', 'why', 'how', 'all', 'any', 'both', 'each', 'few', 'more', 'most', 'other', 'some', 'such', 'no', 'nor', 'not', 'only', 'own', 'same', 'so', 'than', 'too', 'very', 's', 't', 'can', 'will', 'just', 'don', \"don't\", 'should', \"should've\", 'now', 'd', 'll', 'm', 'o', 're', 've', 'y', 'ain', 'aren', \"aren't\", 'couldn', \"couldn't\", 'didn', \"didn't\", 'doesn', \"doesn't\", 'hadn', \"hadn't\", 'hasn', \"hasn't\", 'haven', \"haven't\", 'isn', \"isn't\", 'ma', 'mightn', \"mightn't\", 'mustn', \"mustn't\", 'needn', \"needn't\", 'shan', \"shan't\", 'shouldn', \"shouldn't\", 'wasn', \"wasn't\", 'weren', \"weren't\", 'won', \"won't\", 'wouldn', \"wouldn't\"]\n"
     ]
    }
   ],
   "source": [
    "nltk_stopwords = stopwords.words('english')\n",
    "print(f\"\\nStopwords: {nltk_stopwords}\")\n",
    "\n",
    "def remove_stop_words(df): # loops every column for each row\n",
    "    words = df.split() # only sentences - split makes each row list of words\n",
    "    filtered_words = [word for word in words if word.lower() not in nltk_stopwords] # removes stopwords from list\n",
    "    filtered_sentence = \" \".join(filtered_words) # list -> string again\n",
    "    return filtered_sentence\n",
    "\n",
    "df[\"text\"] = df[\"text\"].apply(remove_stop_words) # each replaced with filtered sentence"
   ]
  },
  {
   "cell_type": "code",
   "execution_count": 85,
   "metadata": {},
   "outputs": [
    {
     "data": {
      "text/html": [
       "<div>\n",
       "<style scoped>\n",
       "    .dataframe tbody tr th:only-of-type {\n",
       "        vertical-align: middle;\n",
       "    }\n",
       "\n",
       "    .dataframe tbody tr th {\n",
       "        vertical-align: top;\n",
       "    }\n",
       "\n",
       "    .dataframe thead th {\n",
       "        text-align: right;\n",
       "    }\n",
       "</style>\n",
       "<table border=\"1\" class=\"dataframe\">\n",
       "  <thead>\n",
       "    <tr style=\"text-align: right;\">\n",
       "      <th></th>\n",
       "      <th>text</th>\n",
       "      <th>label</th>\n",
       "      <th>character_amount</th>\n",
       "      <th>word_amount</th>\n",
       "      <th>emotion_label</th>\n",
       "    </tr>\n",
       "  </thead>\n",
       "  <tbody>\n",
       "    <tr>\n",
       "      <th>0</th>\n",
       "      <td>feel pissed old friend friends</td>\n",
       "      <td>anger</td>\n",
       "      <td>56</td>\n",
       "      <td>12</td>\n",
       "      <td>0</td>\n",
       "    </tr>\n",
       "    <tr>\n",
       "      <th>1</th>\n",
       "      <td>ive found made huge difference especially finger ring skin feels much softer less irritated</td>\n",
       "      <td>anger</td>\n",
       "      <td>133</td>\n",
       "      <td>26</td>\n",
       "      <td>0</td>\n",
       "    </tr>\n",
       "    <tr>\n",
       "      <th>2</th>\n",
       "      <td>also feel unfortunate nearly readers going meet man african americans unlike</td>\n",
       "      <td>sadness</td>\n",
       "      <td>122</td>\n",
       "      <td>23</td>\n",
       "      <td>4</td>\n",
       "    </tr>\n",
       "    <tr>\n",
       "      <th>3</th>\n",
       "      <td>feel petty href http clairee</td>\n",
       "      <td>anger</td>\n",
       "      <td>32</td>\n",
       "      <td>7</td>\n",
       "      <td>0</td>\n",
       "    </tr>\n",
       "    <tr>\n",
       "      <th>4</th>\n",
       "      <td>used believe feeling like fear ignored suppressed right away moment</td>\n",
       "      <td>sadness</td>\n",
       "      <td>110</td>\n",
       "      <td>23</td>\n",
       "      <td>4</td>\n",
       "    </tr>\n",
       "    <tr>\n",
       "      <th>...</th>\n",
       "      <td>...</td>\n",
       "      <td>...</td>\n",
       "      <td>...</td>\n",
       "      <td>...</td>\n",
       "      <td>...</td>\n",
       "    </tr>\n",
       "    <tr>\n",
       "      <th>19995</th>\n",
       "      <td>might buying stuff feel clothes casual</td>\n",
       "      <td>joy</td>\n",
       "      <td>78</td>\n",
       "      <td>17</td>\n",
       "      <td>2</td>\n",
       "    </tr>\n",
       "    <tr>\n",
       "      <th>19996</th>\n",
       "      <td>like sonam deepika genelia feel talented beautiful</td>\n",
       "      <td>joy</td>\n",
       "      <td>75</td>\n",
       "      <td>14</td>\n",
       "      <td>2</td>\n",
       "    </tr>\n",
       "    <tr>\n",
       "      <th>19997</th>\n",
       "      <td>feel pathetic hardly go whole day talking</td>\n",
       "      <td>sadness</td>\n",
       "      <td>67</td>\n",
       "      <td>15</td>\n",
       "      <td>4</td>\n",
       "    </tr>\n",
       "    <tr>\n",
       "      <th>19998</th>\n",
       "      <td>id spent time reading feel bit guilty</td>\n",
       "      <td>sadness</td>\n",
       "      <td>74</td>\n",
       "      <td>16</td>\n",
       "      <td>4</td>\n",
       "    </tr>\n",
       "    <tr>\n",
       "      <th>19999</th>\n",
       "      <td>however feel like one pathetic girls make excuses guy</td>\n",
       "      <td>sadness</td>\n",
       "      <td>87</td>\n",
       "      <td>18</td>\n",
       "      <td>4</td>\n",
       "    </tr>\n",
       "  </tbody>\n",
       "</table>\n",
       "<p>20000 rows × 5 columns</p>\n",
       "</div>"
      ],
      "text/plain": [
       "                                                                                              text  \\\n",
       "0                                                                   feel pissed old friend friends   \n",
       "1      ive found made huge difference especially finger ring skin feels much softer less irritated   \n",
       "2                     also feel unfortunate nearly readers going meet man african americans unlike   \n",
       "3                                                                     feel petty href http clairee   \n",
       "4                              used believe feeling like fear ignored suppressed right away moment   \n",
       "...                                                                                            ...   \n",
       "19995                                                       might buying stuff feel clothes casual   \n",
       "19996                                           like sonam deepika genelia feel talented beautiful   \n",
       "19997                                                    feel pathetic hardly go whole day talking   \n",
       "19998                                                        id spent time reading feel bit guilty   \n",
       "19999                                        however feel like one pathetic girls make excuses guy   \n",
       "\n",
       "         label  character_amount  word_amount  emotion_label  \n",
       "0        anger                56           12              0  \n",
       "1        anger               133           26              0  \n",
       "2      sadness               122           23              4  \n",
       "3        anger                32            7              0  \n",
       "4      sadness               110           23              4  \n",
       "...        ...               ...          ...            ...  \n",
       "19995      joy                78           17              2  \n",
       "19996      joy                75           14              2  \n",
       "19997  sadness                67           15              4  \n",
       "19998  sadness                74           16              4  \n",
       "19999  sadness                87           18              4  \n",
       "\n",
       "[20000 rows x 5 columns]"
      ]
     },
     "execution_count": 85,
     "metadata": {},
     "output_type": "execute_result"
    }
   ],
   "source": [
    "df"
   ]
  },
  {
   "cell_type": "markdown",
   "metadata": {},
   "source": [
    "# Model Creation"
   ]
  }
 ],
 "metadata": {
  "kernelspec": {
   "display_name": "Python 3",
   "language": "python",
   "name": "python3"
  },
  "language_info": {
   "codemirror_mode": {
    "name": "ipython",
    "version": 3
   },
   "file_extension": ".py",
   "mimetype": "text/x-python",
   "name": "python",
   "nbconvert_exporter": "python",
   "pygments_lexer": "ipython3",
   "version": "3.9.13"
  }
 },
 "nbformat": 4,
 "nbformat_minor": 2
}
