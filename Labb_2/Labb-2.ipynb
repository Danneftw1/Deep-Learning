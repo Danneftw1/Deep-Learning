{
 "cells": [
  {
   "cell_type": "markdown",
   "metadata": {},
   "source": [
    "# RNN Labb (endast G)\n",
    "\n",
    "Ni ska skapa ett nätverk som kan klassificera känslor i text. Varje text består av en mening och har en känsla kopplad till sig. Datasetet som ska användas finns på ithsdistans. Koden ska skrivas i en jupyter notebook och den ska vara välstrukturerad och hålla god kod-kvalité. (T.ex. Använd väl valda variabelnamn och kommentarer där det behövs.)\n",
    "\n",
    "## Frågor:\n",
    "\n",
    "*Please note: Throughout this analysis, if I don't explicitly type out the difference between validation and test accuracy, it's because the two are similar enough (within 1 percentage point), in my view, to not need to type them both out. However, if more detailed comparisons are required, I am more than happy to re-run all iterations and update the answers*\n",
    "\n",
    "- **Motivera din modellarkitektur och val av relevanta hyperparametrar.**\n",
    "    - I've chosen to use SimpleRNN instead of LSTM or LSTM-GRU. This helps speed up the training process quite alot (by a factor of about 4). I started off with a super simple model: \n",
    "    ```py\n",
    "    model.add(layers.Embedding(vocab_size, embedding_dim, input_length=max_length))\n",
    "    model.add(layers.SimpleRNN(256, activation='tanh'))\n",
    "\n",
    "    model.add(Dense(256, activation='tanh'))\n",
    "    model.add(Dense(6, activation='softmax'))\n",
    "    ```\n",
    "    However, validation & test score was around 30%, which is pretty terrible. After looking online for abit I saw that perhaps adding a 1D Convolutional layer and a Maxpooling layer might help:\n",
    "    ```py\n",
    "    model.add(layers.Embedding(vocab_size, embedding_dim, input_length=max_length))\n",
    "    model.add(layers.Conv1D(128, 5, activation='relu'))\n",
    "    model.add(layers.MaxPooling1D(5))\n",
    "    model.add(layers.SimpleRNN(256, activation='tanh'))\n",
    "    model.add(Dense(256, activation='tanh'))\n",
    "    model.add(Dense(6, activation='softmax'))\n",
    "    ```\n",
    "    With the addition of these layers, the validation and test score impressively increased to about 88%. This suggests that the applied filters are capturing strong and significant patterns in the sequenced text. The max pooling layer might enhance this fruther by filtering out the most pertinent information from these features. However, this is just a general guess.\n",
    "\n",
    "    I then wanted to add one more convolutional and pooling layer to see if I could easily get higher validation & test score. This seemed to work:\n",
    "    ```py\n",
    "    model.add(layers.Embedding(vocab_size, embedding_dim, input_length=max_length))\n",
    "    model.add(layers.Conv1D(filters=128, kernel_size=5, activation='relu'))\n",
    "    model.add(layers.MaxPooling1D(5))\n",
    "    model.add(layers.Conv1D(filters=128, kernel_size=5, activation='relu'))\n",
    "    model.add(layers.MaxPooling1D(5))\n",
    "    model.add(layers.SimpleRNN(256, activation='tanh'))\n",
    "    model.add(Dense(256, activation='tanh'))\n",
    "    model.add(Dense(6, activation='softmax'))\n",
    "    ```\n",
    "    This managed to get validation & test score up to about 90.5%, which is good, however I can clearly see that the model i abit overfitted (not too badly though), so the next step is to add dropout after each conv/pooling layer:\n",
    "    ```py\n",
    "    model.add(layers.Embedding(vocab_size, embedding_dim, input_length=max_length))\n",
    "    model.add(layers.Conv1D(filters=128, kernel_size=5, activation='relu', kernel_regularizer=regularizers.l2(0.01)))\n",
    "    model.add(layers.MaxPooling1D(5))\n",
    "    model.add(Dropout(0.4))\n",
    "    model.add(layers.Conv1D(filters=128, kernel_size=5, activation='relu', kernel_regularizer=regularizers.l2(0.01)))\n",
    "    model.add(layers.MaxPooling1D(5))\n",
    "    model.add(Dropout(0.4))\n",
    "    model.add(layers.SimpleRNN(256, activation='tanh'))\n",
    "    model.add(Dense(256, activation='tanh'))\n",
    "    model.add(Dropout(0.4))\n",
    "    model.add(Dense(6, activation='softmax'))\n",
    "    ```\n",
    "    They didn't seem to affect the model that much, however I managed to get test and validation score accuracy to about 91% atleast. When i then also added l2 regularization to our convolutional layers it seemed to help the overfitting slightly, however, this caused validation and test score to go down to about 86%. I did get this number up to about 91% (both val and test) by just playing around with l2 hyperparameter (0.01 to 0.001), and I also added a second SimpleRNN layer which seemed to help slightly, I also added dropout as a hyperparameter for these layers. Adding RNN layers like this will increase the amount of parameters (1,1m to 1.6), which is important to keep in mind because I'm not using the most powerful computer in order to train the model:\n",
    "    ```py\n",
    "    model.add(layers.Embedding(vocab_size, embedding_dim, input_length=max_length))\n",
    "    model.add(layers.Conv1D(filters=128, kernel_size=5, activation='relu', kernel_regularizer=regularizers.l2(0.001)))\n",
    "    model.add(layers.MaxPooling1D(5))\n",
    "    model.add(Dropout(0.4))\n",
    "    model.add(layers.Conv1D(filters=128, kernel_size=5, activation='relu', kernel_regularizer=regularizers.l2(0.001)))\n",
    "    model.add(layers.MaxPooling1D(5))\n",
    "    model.add(Dropout(0.4))\n",
    "    model.add(layers.SimpleRNN(256, activation='tanh', return_sequences=True, dropout=0.2))\n",
    "    model.add(layers.SimpleRNN(512, activation='tanh', dropout=0.2))\n",
    "    model.add(Dense(256, activation='tanh'))\n",
    "    model.add(Dropout(0.4))\n",
    "    model.add(Dense(6, activation='softmax'))\n",
    "    ```\n",
    "    I then tested LSTM, LSTM-GRU & Bidirectional layers instead of only SimpelRNN layers. Here's the result of all the combinations i tested:\n",
    "\n",
    "        - Only SimpleRNN: 1.5m parameters | ~91% val and test acc\n",
    "        - Only LSTM: 3m parameters | ~89% val and test acc\n",
    "        - Only GRU: 2.6m parameters | ~89% val and test acc\n",
    "\n",
    "        - Bidirectional SimpleRNN: 2.5m parameters | ~90.5% val and test acc\n",
    "        - Bidirectional LSTM: 6.2m parameters | ~89% val and test acc\n",
    "        - Bidirectional GRU: 4.9m parameters | ~91% val and test acc\n",
    "\n",
    "    Only SimpleRNN seems like the way to go in this case. I also attempted to add a 3rd Convolutional layer, however, the already existing two layers reduce too much data to also add a third layer. I increased the amount of nodes on all layers to check if it affected performance. The only thing that happened was that the amount of parameters shot up to about 5 million, but very slight change otherwise.\n",
    "    \n",
    "    This is the final iteration of my model: \n",
    "\n",
    "    ```py\n",
    "    model.add(layers.Embedding(vocab_size, embedding_dim, input_length=max_length))\n",
    "    model.add(layers.Conv1D(filters=128, kernel_size=5, activation='relu', kernel_regularizer=regularizers.l2(0.001)))\n",
    "    model.add(layers.MaxPooling1D(5))\n",
    "    model.add(Dropout(0.4))\n",
    "    model.add(layers.Conv1D(filters=128, kernel_size=5, activation='relu', kernel_regularizer=regularizers.l2(0.001)))\n",
    "    model.add(layers.MaxPooling1D(5))\n",
    "    model.add(Dropout(0.4))\n",
    "    model.add(layers.SimpleRNN(256, activation='tanh', return_sequences=True, dropout=0.2))\n",
    "    model.add(layers.SimpleRNN(512, activation='tanh', dropout=0.2)) # 512\n",
    "    model.add(Dense(256, activation='tanh')) #256\n",
    "    model.add(Dropout(0.4))\n",
    "    model.add(Dense(6, activation='softmax'))\n",
    "    ```\n",
    "\n",
    "- **Vilka aktiveringsfunktioner har du använt? Varför?**\n",
    "    - RNN's commonly use Tanh or sigmoid. There are apparently also examples when using LSTMs where both AF are used. In this case, I'm testing each separately and using the one with the best scoring (val & test acc), which was Tanh for the case of SimpleRNN layers:\n",
    "        - ReLU: ~87%\n",
    "        - Sigmoid: got stuck at ~34% (not sure exactly why this happened, even when i re-ran all cells)\n",
    "        - Tanh: ~90%\n",
    "    - For the convolutional layers I chose to go with ReLu, this is because when I was testing, I noticed that ReLu scored 1% point higher than tanh, which suggests that the commonly used activation function for RNN's don't apply to the convolutional layers.\n",
    "    - For the output I've chosen to go with the softmax AF, this is because our problem here is a multiclass classification problem. We're predicting a single output for each prediction, each sentence only has one classification (atleast that is what I'm assuming).\n",
    "- **Vilken loss funktion har du använt? Varför?**\n",
    "    - Since I've done simple label encoding, the best option seems to be sparse categorical crossentropy. This is because sparse categorical crossentropy is used when your classes are mutually exclusive, which is the same reasoning as when choosing output layer AF.\n",
    "- **Har du använt någon databehandling? Motivera dina val.**\n",
    "    - I've removed stopwords from the dataset, aswell as made sure that the text is all lower case. This is ofcourse to remove unecessary data that doesn't affect the outcome of the model, this also makes the model more efficient. I also added a few variations of stopwords to the list since I saw that they were missing. In this case the dataset had examples of not using \"'\" for a few words. Examples would be: \"youre\" instead of \"you're\" etc.. \n",
    "    - I also did some feature engineering by counting words and characters for each sentence and then adding these numbers to a another column. However, It doesn't seem like this was needed in this case and I removed it from the dataframe. \n",
    "    - Tokenization & padding was also added. Tokenization was to convert the text into something that an RNN model would be able to understand, i.e convert to numbers. I then padded each row with 0's, and this is to have the input be the same shape. It also truncates the sentences if they're longer than what I've specified (which doesn't happen in this case, however, if more data is added later on, then this might be the case).\n",
    "    - The last thing I also did was to try and balance out the dataset with data augmentation. I checked which label had the most data, then created code which augmented and added data until the labels had the same count as the \"joy\" label. \n",
    "- **Har du använt någon regulariseringsteknik? Motivera.**\n",
    "    - I've used quite alot of regularization, what's odd though is that it doesn't seem to affect the overfitting too much overall. Sure, it helps abit, but not as much as it affected the CNN model we created for example. I wonder if this has to do with it being an RNN model, or perhaps a text-based dataset?\n",
    "- **Hur har modellen utvärderats?**\n",
    "    - I've plotted out training and validation data to get a picture of how overfit the model is, I've also added a confusion matrix. Since the dataset was originally very unbalanced, I wanted to see how prediction accuracy differed between the labels. To end the evaluation I check how well the model performs on test data by checking accuracy and loss.\n",
    "- **Är prestandan bra? Varför/ varför inte?**\n",
    "    - I would say that the model is actually doing pretty well, I think I've done my best to try and exhaust every avenue when it comes to bettering the model. The main thing that really shot up the accuracy score was adding 1D convolutional layers. It really seemed like they fit our problem here very well.\n",
    "- **Vad hade du kunnat göra för att förbättra den ytterligare?**\n",
    "    - Spend more time on data augmentation because I feel like it's such a powerful tool if you use well, it's basically free data, which is so increadibly important for machine learning.\n",
    "        - For example: Andreas and I were discussing data augmentation, and he told me that it's possible to translate from one language to another, then back. This in turn creates basically a paraphrased sentence of the original, however, the original meaning of the sentence stays the same, but you get essentially new data.\n",
    "    - Utilize the confusion matrix. I can clearly see that certain labels are more easily predicted compared to others. This obviously helps you focus on what needs to be looked into and improved, instead of just trying to change the dataset in a general sense, which impacts every label.\n",
    "        - For example: why are there 60 incorrectly predicted labels with \"love\", when the actual label is \"joy\"? And, why are there only 2 incorrectly predicted labels with \"sadness\", when the actual label is \"love\"? Just looking this up to type this example, I realise that \"joy\" and \"love\" are most likely very similar and overlap with eachother more often than \"sadness\" and \"love\". Can I change this somehow? Or would it be too difficult?\n",
    "    - Dive deeper into regularization. Right now, I just select values that I see online and have used before without really understand why that value works well or not.\n",
    "- **Generativ AI har blivit stort inom text. Beskriv skillnaden mellan generativ ai och mer traditionell ai.**\n",
    "    - Traditional AI are more rule-bound, this means that they're utilizing a specific amount of algorithms and rely on explicit programming by someone. The thought here being that we have more control and understand what the AI excels at, aswell as its boundaries. This is atleast what we initally thought AI would be, and there have been plenty of movies showcasing the issues with AI, even in its traditional form. Mainly, that there might be some sort of oversight in the creation leading to unintended self-serving behavior by the AI.\n",
    "    - When it comes to generative AI, there is more a flexible approach, where certain mathematical and statistical concepts act as building blocks for an unlimited amount of use-case specific algorithms, which then in turn generate new data, often improving through feedback loops iteratively. The boundaries of generative AI are more neboulus and less predictable, which means that the potential of generative AI is nearly endless. This in turn obviously mean that it can be used both for good and evil. Companies exploring generative AI seem to take this seriously, meaning that they are implementing safeguards (atleast for their own creations), making the use of generative AI safer for everyone. \n",
    "\n"
   ]
  },
  {
   "cell_type": "code",
   "execution_count": 181,
   "metadata": {},
   "outputs": [],
   "source": [
    "import pandas as pd\n",
    "from loguru import logger\n",
    "import tensorflow as tf\n",
    "from tensorflow.keras.models import Model\n",
    "from keras.models import Sequential\n",
    "import keras\n",
    "from keras import layers\n",
    "from tensorflow.keras.layers import Dense\n",
    "from tensorflow.keras import regularizers\n",
    "from tensorflow.keras.layers.experimental.preprocessing import TextVectorization\n",
    "import keras_tuner as kt\n",
    "from tensorflow.keras import Sequential, layers, regularizers\n",
    "from tensorflow.keras.layers import Dropout, Dense\n",
    "\n",
    "\n",
    "from statistics import mean, median\n",
    "from nltk import FreqDist\n",
    "from nltk.corpus import stopwords\n",
    "from nltk.stem import PorterStemmer\n",
    "from nltk.tokenize import word_tokenize\n",
    "import matplotlib.pyplot as plt\n",
    "import seaborn as sns\n",
    "from sklearn.model_selection import train_test_split\n",
    "from pandas import DataFrame, Series\n",
    "from loguru import logger\n",
    "\n",
    "import tensorflow as tf\n",
    "from tensorflow.keras.preprocessing.text import Tokenizer\n",
    "from tensorflow.keras.preprocessing.sequence import pad_sequences\n",
    "from tensorflow.keras.models import Sequential\n",
    "from tensorflow.keras.layers import Embedding, LSTM, Dense\n",
    "from tensorflow.keras.layers import Conv1D, Dropout, MaxPooling1D\n",
    "\n",
    "from tensorflow.keras import backend as K\n",
    "import numpy as np\n",
    "from collections import Counter\n",
    "import itertools\n",
    "from tensorflow.keras.callbacks import EarlyStopping\n",
    "import pandas as pd\n",
    "from sklearn.preprocessing import LabelEncoder\n",
    "import random\n",
    "from sklearn.metrics import confusion_matrix, classification_report\n",
    "\n",
    "df = pd.read_csv(\"emotions.csv\")\n",
    "pd.set_option(\"display.max_colwidth\", None)  # to be able to read entire text"
   ]
  },
  {
   "cell_type": "code",
   "execution_count": 182,
   "metadata": {},
   "outputs": [
    {
     "name": "stdout",
     "output_type": "stream",
     "text": [
      "<class 'pandas.core.frame.DataFrame'>\n",
      "RangeIndex: 20000 entries, 0 to 19999\n",
      "Data columns (total 2 columns):\n",
      " #   Column  Non-Null Count  Dtype \n",
      "---  ------  --------------  ----- \n",
      " 0   text    20000 non-null  object\n",
      " 1   label   20000 non-null  object\n",
      "dtypes: object(2)\n",
      "memory usage: 312.6+ KB\n"
     ]
    }
   ],
   "source": [
    "df.info()"
   ]
  },
  {
   "cell_type": "code",
   "execution_count": 183,
   "metadata": {},
   "outputs": [
    {
     "data": {
      "text/plain": [
       "text     0\n",
       "label    0\n",
       "dtype: int64"
      ]
     },
     "execution_count": 183,
     "metadata": {},
     "output_type": "execute_result"
    }
   ],
   "source": [
    "df.isnull().sum()"
   ]
  },
  {
   "cell_type": "markdown",
   "metadata": {},
   "source": [
    "### Creates new column that has word count of each sentence\n",
    "#### Also gives general information about the texts"
   ]
  },
  {
   "cell_type": "code",
   "execution_count": 184,
   "metadata": {},
   "outputs": [
    {
     "name": "stdout",
     "output_type": "stream",
     "text": [
      "\n",
      "Rows that are ABOVE or EQUAL to 20 characters long: 8276\n",
      "Rows that are BELOW 20 characters long: 11724\n",
      "\n",
      "Rows that are ABOVE or EQUAL to 100 characters long: 8099\n",
      "Rows that are BELOW 100 characters long: 11901\n",
      "\n",
      "---LENGTH OF SENTENCES IN DATASET---\n",
      "Median Length Characters: 86.0\n",
      "Average Length Characters: 96.67005\n",
      "Smallest Length Characters: 7\n",
      "Longest Length Characters: 300 \n",
      "\n",
      "Median Length Words: 17.0\n",
      "Average Length Words: 19.13505\n",
      "Smallest Length Words: 2\n",
      "Longest Length Words: 66 \n",
      "\n"
     ]
    },
    {
     "data": {
      "text/plain": [
       "(None, None, None, None)"
      ]
     },
     "execution_count": 184,
     "metadata": {},
     "output_type": "execute_result"
    }
   ],
   "source": [
    "def character_counter_for_sentences(column: Series) -> list:\n",
    "    sentence_length_characters = []\n",
    "    for row, text in enumerate(column.iloc):\n",
    "        sentence_length_characters.append(len(text))\n",
    "    return sentence_length_characters\n",
    "\n",
    "\n",
    "def word_counter_for_sentences(column: Series) -> list:\n",
    "    sentence_length_words = []\n",
    "    for row, text in enumerate(column.iloc):\n",
    "        sentence_length_words.append(len(text.split()))\n",
    "    return sentence_length_words\n",
    "\n",
    "\n",
    "def word_or_character_length(\n",
    "    word_or_character_amount: int, word_or_character_list: list\n",
    ") -> print:\n",
    "    above_100_length = [\n",
    "        length >= word_or_character_amount for length in word_or_character_list\n",
    "    ]\n",
    "    is_above_100 = above_100_length.count(True)\n",
    "    is_not_above_100 = above_100_length.count(False)\n",
    "\n",
    "    above_or_equal_print = print(\n",
    "        f\"\\nRows that are ABOVE or EQUAL to {word_or_character_amount} characters long: {is_above_100}\"\n",
    "    )\n",
    "    below_print = print(\n",
    "        f\"Rows that are BELOW {word_or_character_amount} characters long: {is_not_above_100}\"\n",
    "    )\n",
    "    return above_or_equal_print, below_print\n",
    "\n",
    "\n",
    "def print_metrics_for_characters_or_words(\n",
    "    word_or_character: str, word_or_character_list: list\n",
    ") -> print:\n",
    "    print_median = print(\n",
    "        f\"Median Length {word_or_character}:\", median(word_or_character_list)\n",
    "    )\n",
    "    print_mean = print(\n",
    "        f\"Average Length {word_or_character}:\", mean(word_or_character_list)\n",
    "    )\n",
    "    print_min = print(\n",
    "        f\"Smallest Length {word_or_character}:\", min(word_or_character_list)\n",
    "    )\n",
    "    print_max = print(\n",
    "        f\"Longest Length {word_or_character}:\", max(word_or_character_list), \"\\n\"\n",
    "    )\n",
    "    return print_median, print_mean, print_min, print_max\n",
    "\n",
    "\n",
    "text_rows = df[\"text\"]\n",
    "\n",
    "sentence_length_characters = character_counter_for_sentences(text_rows)\n",
    "df[\n",
    "    \"character_amount\"\n",
    "] = sentence_length_characters  # add new column with character length\n",
    "\n",
    "sentence_length_words = word_counter_for_sentences(text_rows)\n",
    "df[\"word_amount\"] = sentence_length_words  # add new column with word length\n",
    "\n",
    "word_or_character_length(20, sentence_length_words)\n",
    "word_or_character_length(100, sentence_length_characters)\n",
    "print_header = print(\"\\n---LENGTH OF SENTENCES IN DATASET---\")\n",
    "print_metrics_for_characters_or_words(\"Characters\", sentence_length_characters)\n",
    "print_metrics_for_characters_or_words(\"Words\", sentence_length_words)"
   ]
  },
  {
   "cell_type": "code",
   "execution_count": 186,
   "metadata": {},
   "outputs": [
    {
     "data": {
      "image/png": "[encoded data removed]",
      "text/plain": [
       "<Figure size 1500x500 with 2 Axes>"
      ]
     },
     "metadata": {},
     "output_type": "display_data"
    }
   ],
   "source": [
    "def length_words_and_characters_histplot(\n",
    "    size_x=1, size_y=2, figsizes=(15, 5), bin=50, kde=True\n",
    ") -> sns.histplot: \n",
    "    fig, axs = plt.subplots(size_x, size_y, figsize=figsizes)\n",
    "\n",
    "    sns.histplot(df[\"character_amount\"], bins=bin, kde=kde, ax=axs[0])\n",
    "    axs[0].set_title(\"Sentence length in characters\")\n",
    "    axs[0].set_xlabel(\"Characters\")\n",
    "    axs[0].set_ylabel(\"Amount\")\n",
    "\n",
    "    sns.histplot(df[\"word_amount\"], bins=bin, kde=kde, ax=axs[1])\n",
    "    axs[1].set_title(\"Sentence length in words\")\n",
    "    axs[1].set_xlabel(\"Words\")\n",
    "    axs[1].set_ylabel(\"Amount\")\n",
    "\n",
    "    plt.tight_layout()\n",
    "    plt.show()\n",
    "\n",
    "\n",
    "length_words_and_characters_histplot()"
   ]
  },
  {
   "cell_type": "markdown",
   "metadata": {},
   "source": [
    "## Emotion distribution"
   ]
  },
  {
   "cell_type": "code",
   "execution_count": 187,
   "metadata": {},
   "outputs": [
    {
     "name": "stdout",
     "output_type": "stream",
     "text": [
      "anger\n",
      "sadness\n",
      "joy\n",
      "love\n",
      "fear\n",
      "surprise\n",
      "\n",
      "joy         6761\n",
      "sadness     5797\n",
      "anger       2709\n",
      "fear        2373\n",
      "love        1641\n",
      "surprise     719\n",
      "Name: label, dtype: int64\n"
     ]
    }
   ],
   "source": [
    "emotions = df[\"label\"].unique()\n",
    "emotions_count = df[\"label\"].value_counts()\n",
    "\n",
    "for i in emotions:\n",
    "    print(i)\n",
    "\n",
    "print(f\"\\n{emotions_count}\")"
   ]
  },
  {
   "cell_type": "markdown",
   "metadata": {},
   "source": [
    "## Removing stop words"
   ]
  },
  {
   "cell_type": "code",
   "execution_count": 188,
   "metadata": {},
   "outputs": [
    {
     "name": "stdout",
     "output_type": "stream",
     "text": [
      "\n",
      "Stopwords: ['i', 'me', 'my', 'myself', 'we', 'our', 'ours', 'ourselves', 'you', \"you're\", \"you've\", \"you'll\", \"you'd\", 'your', 'yours', 'yourself', 'yourselves', 'he', 'him', 'his', 'himself', 'she', \"she's\", 'her', 'hers', 'herself', 'it', \"it's\", 'its', 'itself', 'they', 'them', 'their', 'theirs', 'themselves', 'what', 'which', 'who', 'whom', 'this', 'that', \"that'll\", 'these', 'those', 'am', 'is', 'are', 'was', 'were', 'be', 'been', 'being', 'have', 'has', 'had', 'having', 'do', 'does', 'did', 'doing', 'a', 'an', 'the', 'and', 'but', 'if', 'or', 'because', 'as', 'until', 'while', 'of', 'at', 'by', 'for', 'with', 'about', 'against', 'between', 'into', 'through', 'during', 'before', 'after', 'above', 'below', 'to', 'from', 'up', 'down', 'in', 'out', 'on', 'off', 'over', 'under', 'again', 'further', 'then', 'once', 'here', 'there', 'when', 'where', 'why', 'how', 'all', 'any', 'both', 'each', 'few', 'more', 'most', 'other', 'some', 'such', 'no', 'nor', 'not', 'only', 'own', 'same', 'so', 'than', 'too', 'very', 's', 't', 'can', 'will', 'just', 'don', \"don't\", 'should', \"should've\", 'now', 'd', 'll', 'm', 'o', 're', 've', 'y', 'ain', 'aren', \"aren't\", 'couldn', \"couldn't\", 'didn', \"didn't\", 'doesn', \"doesn't\", 'hadn', \"hadn't\", 'hasn', \"hasn't\", 'haven', \"haven't\", 'isn', \"isn't\", 'ma', 'mightn', \"mightn't\", 'mustn', \"mustn't\", 'needn', \"needn't\", 'shan', \"shan't\", 'shouldn', \"shouldn't\", 'wasn', \"wasn't\", 'weren', \"weren't\", 'won', \"won't\", 'wouldn', \"wouldn't\"]\n"
     ]
    }
   ],
   "source": [
    "nltk_stopwords = stopwords.words(\"english\")  # set language stopwords\n",
    "print(f\"\\nStopwords: {nltk_stopwords}\")  # prints list of stopwords in module\n",
    "\n",
    "# dataframe has words without apostrophy\n",
    "# so I added every word but without any apostrophies to the stopwords list so we're not missing any stopwords\n",
    "nltk_stopwords_no_apostrophy = [word.replace(\"'\", \"\") for word in nltk_stopwords]\n",
    "nltk_stopwords.extend(nltk_stopwords_no_apostrophy)"
   ]
  },
  {
   "cell_type": "code",
   "execution_count": 189,
   "metadata": {},
   "outputs": [],
   "source": [
    "def remove_stopwords_from_df(df: DataFrame) -> str:\n",
    "    words = df.split()  # only sentences - split makes each row list of words\n",
    "    filtered_words = [\n",
    "        word for word in words if word.lower() not in nltk_stopwords\n",
    "    ]  # keep words that arent in stopword list\n",
    "    filtered_sentence = \" \".join(filtered_words)  # list -> string again\n",
    "    return filtered_sentence\n",
    "\n",
    "\n",
    "df[\"text\"] = df[\"text\"].apply(\n",
    "    remove_stopwords_from_df\n",
    ")  # each replaced with filtered sentence"
   ]
  },
  {
   "cell_type": "markdown",
   "metadata": {},
   "source": [
    "## Data augmentation"
   ]
  },
  {
   "cell_type": "code",
   "execution_count": 190,
   "metadata": {},
   "outputs": [],
   "source": [
    "sentences = df[\"text\"]\n",
    "labels = df[\"label\"]\n",
    "\n",
    "target_label_count = df[df[\"label\"]==\"joy\"].shape[0] # counts how many rows of \"joy\" the dataset has\n",
    "\n",
    "def augmented_sentences(sentence):\n",
    "    words = sentence.split()\n",
    "    augmentation_num = random.randint(1, 3) # selects a random amount of augmentations (1 to 3)\n",
    "    for i in range(augmentation_num):\n",
    "        augmentation_type = random.choice([\"insert\", \"swap\", \"delete\"]) # selects 1-3 augmentation types to apply\n",
    "        # for each sentence that is selected 1-3 augmentations are created from that sentence\n",
    "        # this then creates a new sentence which is added to the dataset\n",
    "        # an example would be: \n",
    "        # augmentations: 2\n",
    "        # swapped word position 1 and 5\n",
    "        # deleted word at position 3\n",
    "        if augmentation_type == \"insert\" and len(words) > 1: # sentence has to be more than 1 word\n",
    "            insert_word = random.choice(words)\n",
    "            position = random.randint(0, len(words)-1) # len(words)-1 because position starts at 0\n",
    "            words.insert(position, insert_word)\n",
    "        elif augmentation_type == \"swap\" and len(words) > 1:\n",
    "            position1, position2 = random.sample(range(len(words)), 2) # 2 random positions in the sentence\n",
    "            words[position1], words[position2] = words[position2], words[position1]\n",
    "        elif augmentation_type == \"delete\" and len(words) > 1:\n",
    "            position = random.randint(0, len(words)-1)\n",
    "            words.pop(position)\n",
    "        \n",
    "        return ' '.join(words) # join elements of the list back together\n",
    "\n",
    "augmented_texts = []\n",
    "augmented_labels = []\n",
    "\n",
    "grouped_data = df.groupby(\"label\")\n",
    "for label, group in grouped_data: # loops through each label and applies augmentation until the count is the same as \"joy\"\n",
    "    count = group.shape[0]\n",
    "    less_than_joy = target_label_count - count # calculates how many X label rows are missing compared to \"joy\" label\n",
    "    if less_than_joy > 0:\n",
    "        group_indices = group.index.tolist() # creates 6 lists, each list is an emotion, each element is the sentence position\n",
    "        while less_than_joy > 0: # while there are more \"joy\" sentences, apply the augmentations\n",
    "            random_index = random.choice(group_indices)  # picks a random sentence to augment\n",
    "            original_sentence = data.loc[random_index]\n",
    "            augmented_sentence = augment_sentence(original_sentence)\n",
    "\n",
    "            augmented_texts.append(augmented_sentence)\n",
    "            augmented_labels.append(label)\n",
    "\n",
    "            less_than_joy -= 1  # updates count\n",
    "\n",
    "# creates a new df and then concats this new df with original df            \n",
    "augmented_df = pd.DataFrame({\n",
    "    'text': augmented_texts,\n",
    "    'label': augmented_labels,\n",
    "    })\n",
    "\n",
    "final_df = pd.concat([df, augmented_df], ignore_index=True)\n",
    "final_df = final_df.sample(frac=1).reset_index(drop=True)  # Shuffle the combined DataFrame\n",
    "\n",
    "df = final_df"
   ]
  },
  {
   "cell_type": "markdown",
   "metadata": {},
   "source": [
    "## Category Encoding & Clean Up"
   ]
  },
  {
   "cell_type": "code",
   "execution_count": 191,
   "metadata": {},
   "outputs": [
    {
     "name": "stdout",
     "output_type": "stream",
     "text": [
      "anger: 0\n",
      "sadness: 1\n",
      "joy: 2\n",
      "love: 3\n",
      "fear: 4\n",
      "surprise: 5\n"
     ]
    }
   ],
   "source": [
    "# drop columns that arent needed\n",
    "df.drop(columns=[\"character_amount\", \"word_amount\"], inplace=True)\n",
    "df.dropna(inplace=True)\n",
    "\n",
    "# category encoding\n",
    "df[\"emotion_label\"] = df[\"label\"].astype(\"category\").cat.codes\n",
    "\n",
    "for i in range(len(emotions)):\n",
    "    print(f\"{emotions[i]}: {i}\")"
   ]
  },
  {
   "cell_type": "code",
   "execution_count": null,
   "metadata": {},
   "outputs": [
    {
     "data": {
      "text/html": [
       "<div>\n",
       "<style scoped>\n",
       "    .dataframe tbody tr th:only-of-type {\n",
       "        vertical-align: middle;\n",
       "    }\n",
       "\n",
       "    .dataframe tbody tr th {\n",
       "        vertical-align: top;\n",
       "    }\n",
       "\n",
       "    .dataframe thead th {\n",
       "        text-align: right;\n",
       "    }\n",
       "</style>\n",
       "<table border=\"1\" class=\"dataframe\">\n",
       "  <thead>\n",
       "    <tr style=\"text-align: right;\">\n",
       "      <th></th>\n",
       "      <th>text</th>\n",
       "      <th>label</th>\n",
       "      <th>emotion_label</th>\n",
       "    </tr>\n",
       "  </thead>\n",
       "  <tbody>\n",
       "    <tr>\n",
       "      <th>0</th>\n",
       "      <td>feel agitated incoherence lot im straddling articulacy incoherence</td>\n",
       "      <td>anger</td>\n",
       "      <td>0</td>\n",
       "    </tr>\n",
       "    <tr>\n",
       "      <th>1</th>\n",
       "      <td>get concerned pretty honest feeling shitty</td>\n",
       "      <td>sadness</td>\n",
       "      <td>4</td>\n",
       "    </tr>\n",
       "    <tr>\n",
       "      <th>2</th>\n",
       "      <td>wonder pick stress im im trying feed feeling getting feeding much</td>\n",
       "      <td>fear</td>\n",
       "      <td>1</td>\n",
       "    </tr>\n",
       "    <tr>\n",
       "      <th>3</th>\n",
       "      <td>feel victimized drag country heads sand traditionalists hesitate call conservatives fear offending real honest god conservatives still think world created years ago stuff like skeletal remains kind hoax</td>\n",
       "      <td>sadness</td>\n",
       "      <td>4</td>\n",
       "    </tr>\n",
       "    <tr>\n",
       "      <th>4</th>\n",
       "      <td>terrible cheer want terrible feel</td>\n",
       "      <td>sadness</td>\n",
       "      <td>4</td>\n",
       "    </tr>\n",
       "    <tr>\n",
       "      <th>...</th>\n",
       "      <td>...</td>\n",
       "      <td>...</td>\n",
       "      <td>...</td>\n",
       "    </tr>\n",
       "    <tr>\n",
       "      <th>40561</th>\n",
       "      <td>think tell feel moment see looking something dumb</td>\n",
       "      <td>sadness</td>\n",
       "      <td>4</td>\n",
       "    </tr>\n",
       "    <tr>\n",
       "      <th>40562</th>\n",
       "      <td>im home feel cold seeped arms legs</td>\n",
       "      <td>anger</td>\n",
       "      <td>0</td>\n",
       "    </tr>\n",
       "    <tr>\n",
       "      <th>40563</th>\n",
       "      <td>feel loyal style</td>\n",
       "      <td>love</td>\n",
       "      <td>3</td>\n",
       "    </tr>\n",
       "    <tr>\n",
       "      <th>40564</th>\n",
       "      <td>consistently anticipation like feel admired feel safe nature</td>\n",
       "      <td>love</td>\n",
       "      <td>3</td>\n",
       "    </tr>\n",
       "    <tr>\n",
       "      <th>40565</th>\n",
       "      <td>feel little comes divine center</td>\n",
       "      <td>joy</td>\n",
       "      <td>2</td>\n",
       "    </tr>\n",
       "  </tbody>\n",
       "</table>\n",
       "<p>40566 rows × 3 columns</p>\n",
       "</div>"
      ],
      "text/plain": [
       "                                                                                                                                                                                                             text  \\\n",
       "0                                                                                                                                              feel agitated incoherence lot im straddling articulacy incoherence   \n",
       "1                                                                                                                                                                      get concerned pretty honest feeling shitty   \n",
       "2                                                                                                                                               wonder pick stress im im trying feed feeling getting feeding much   \n",
       "3      feel victimized drag country heads sand traditionalists hesitate call conservatives fear offending real honest god conservatives still think world created years ago stuff like skeletal remains kind hoax   \n",
       "4                                                                                                                                                                               terrible cheer want terrible feel   \n",
       "...                                                                                                                                                                                                           ...   \n",
       "40561                                                                                                                                                           think tell feel moment see looking something dumb   \n",
       "40562                                                                                                                                                                          im home feel cold seeped arms legs   \n",
       "40563                                                                                                                                                                                            feel loyal style   \n",
       "40564                                                                                                                                                consistently anticipation like feel admired feel safe nature   \n",
       "40565                                                                                                                                                                             feel little comes divine center   \n",
       "\n",
       "         label  emotion_label  \n",
       "0        anger              0  \n",
       "1      sadness              4  \n",
       "2         fear              1  \n",
       "3      sadness              4  \n",
       "4      sadness              4  \n",
       "...        ...            ...  \n",
       "40561  sadness              4  \n",
       "40562    anger              0  \n",
       "40563     love              3  \n",
       "40564     love              3  \n",
       "40565      joy              2  \n",
       "\n",
       "[40566 rows x 3 columns]"
      ]
     },
     "execution_count": 200,
     "metadata": {},
     "output_type": "execute_result"
    }
   ],
   "source": [
    "df # check how many total rows after augmentation"
   ]
  },
  {
   "cell_type": "markdown",
   "metadata": {},
   "source": [
    "# Model Creation"
   ]
  },
  {
   "cell_type": "code",
   "execution_count": 192,
   "metadata": {},
   "outputs": [
    {
     "name": "stdout",
     "output_type": "stream",
     "text": [
      "(28396,) (6085,) (6085,)\n",
      "(28396,) (6085,) (6085,)\n"
     ]
    }
   ],
   "source": [
    "X, y = df[\"text\"], df[\"emotion_label\"]\n",
    "\n",
    "# train test validation split 70/15/15\n",
    "X_temp, X_test, y_temp, y_test = train_test_split(X, y, test_size=0.15, random_state=42)\n",
    "\n",
    "X_train, X_val, y_train, y_val = train_test_split(\n",
    "    X_temp, y_temp, test_size=0.17645, random_state=42\n",
    ")\n",
    "\n",
    "print(X_train.shape, X_val.shape, X_test.shape)\n",
    "print(y_train.shape, y_val.shape, y_test.shape)"
   ]
  },
  {
   "cell_type": "code",
   "execution_count": 193,
   "metadata": {},
   "outputs": [
    {
     "data": {
      "text/plain": [
       "16926"
      ]
     },
     "execution_count": 193,
     "metadata": {},
     "output_type": "execute_result"
    }
   ],
   "source": [
    "# counts how many words there are in dataset - for setting vocab_size\n",
    "words = list(itertools.chain(*[sentence.split() for sentence in df[\"text\"]]))\n",
    "word_counts = Counter(words)\n",
    "\n",
    "len(word_counts)"
   ]
  },
  {
   "cell_type": "markdown",
   "metadata": {},
   "source": [
    "# Tokenization & Padding"
   ]
  },
  {
   "cell_type": "code",
   "execution_count": 194,
   "metadata": {},
   "outputs": [],
   "source": [
    "vocab_size = 17000  # since total unique words in dataset are 16926\n",
    "embedding_dim = 50  # 50-500 seems to be normal range, since this is a smaller dataset, I've gone with 50\n",
    "max_length = 80  # max length in words - truncated if longer, padded if shorter\n",
    "padding_type = \"post\"\n",
    "trunc_type = \"post\"\n",
    "\n",
    "# tokenizes the texts in dataframe\n",
    "tokenizer = Tokenizer(num_words=vocab_size)\n",
    "tokenizer.fit_on_texts(X_train)\n",
    "\n",
    "# converts tokens into numbers\n",
    "X_train_sequences = tokenizer.texts_to_sequences(X_train)\n",
    "X_val_sequences = tokenizer.texts_to_sequences(X_val)\n",
    "X_test_sequences = tokenizer.texts_to_sequences(X_test)"
   ]
  },
  {
   "cell_type": "code",
   "execution_count": 195,
   "metadata": {},
   "outputs": [],
   "source": [
    "# pads sequenced tokens for input - same length\n",
    "X_train_padded = pad_sequences(\n",
    "    X_train_sequences, maxlen=max_length, padding=padding_type, truncating=trunc_type\n",
    ")\n",
    "X_val_padded = pad_sequences(\n",
    "    X_val_sequences, maxlen=max_length, padding=padding_type, truncating=trunc_type\n",
    ")\n",
    "X_test_padded = pad_sequences(\n",
    "    X_test_sequences, maxlen=max_length, padding=padding_type, truncating=trunc_type\n",
    ")"
   ]
  },
  {
   "cell_type": "code",
   "execution_count": 197,
   "metadata": {},
   "outputs": [
    {
     "name": "stdout",
     "output_type": "stream",
     "text": [
      "Model: \"sequential\"\n",
      "_________________________________________________________________\n",
      " Layer (type)                Output Shape              Param #   \n",
      "=================================================================\n",
      " embedding (Embedding)       (None, 80, 50)            850000    \n",
      "                                                                 \n",
      " conv1d (Conv1D)             (None, 76, 128)           32128     \n",
      "                                                                 \n",
      " max_pooling1d (MaxPooling1  (None, 15, 128)           0         \n",
      " D)                                                              \n",
      "                                                                 \n",
      " dropout (Dropout)           (None, 15, 128)           0         \n",
      "                                                                 \n",
      " conv1d_1 (Conv1D)           (None, 11, 128)           82048     \n",
      "                                                                 \n",
      " max_pooling1d_1 (MaxPoolin  (None, 2, 128)            0         \n",
      " g1D)                                                            \n",
      "                                                                 \n",
      " dropout_1 (Dropout)         (None, 2, 128)            0         \n",
      "                                                                 \n",
      " simple_rnn (SimpleRNN)      (None, 2, 256)            98560     \n",
      "                                                                 \n",
      " simple_rnn_1 (SimpleRNN)    (None, 512)               393728    \n",
      "                                                                 \n",
      " dense (Dense)               (None, 256)               131328    \n",
      "                                                                 \n",
      " dropout_2 (Dropout)         (None, 256)               0         \n",
      "                                                                 \n",
      " dense_1 (Dense)             (None, 6)                 1542      \n",
      "                                                                 \n",
      "=================================================================\n",
      "Total params: 1589334 (6.06 MB)\n",
      "Trainable params: 1589334 (6.06 MB)\n",
      "Non-trainable params: 0 (0.00 Byte)\n",
      "_________________________________________________________________\n"
     ]
    }
   ],
   "source": [
    "def rnn_base_model():\n",
    "    model = Sequential()\n",
    "\n",
    "    # \"Embedding is a learned representation for text where words that have the same meaning and\n",
    "    # save similar representation\"\n",
    "    # it takes the arbitrary ints and convert them to vectors\n",
    "    model.add(layers.Embedding(vocab_size, embedding_dim, input_length=max_length))\n",
    "\n",
    "    model.add(\n",
    "        layers.Conv1D(\n",
    "            filters=128,\n",
    "            kernel_size=5,\n",
    "            activation=\"relu\",\n",
    "            kernel_regularizer=regularizers.l2(0.001),\n",
    "        )\n",
    "    )\n",
    "    model.add(layers.MaxPooling1D(5))\n",
    "    model.add(Dropout(0.4))\n",
    "\n",
    "    model.add(\n",
    "        layers.Conv1D(\n",
    "            filters=128,\n",
    "            kernel_size=5,\n",
    "            activation=\"relu\",\n",
    "            kernel_regularizer=regularizers.l2(0.001),\n",
    "        )\n",
    "    )\n",
    "    model.add(layers.MaxPooling1D(5))\n",
    "    model.add(Dropout(0.4))\n",
    "\n",
    "    # return_sequence for all SimpleRNN layers before the last SimpleRNN layer\n",
    "    # ensure an output which works with the next SimpleRNN layers\n",
    "    model.add(\n",
    "        layers.SimpleRNN(256, activation=\"tanh\", return_sequences=True, dropout=0.2)\n",
    "    )  \n",
    "    model.add(layers.SimpleRNN(512, activation=\"tanh\", dropout=0.2))\n",
    "\n",
    "    model.add(Dense(256, activation=\"tanh\")) \n",
    "    model.add(Dropout(0.4))\n",
    "    model.add(Dense(6, activation=\"softmax\"))\n",
    "\n",
    "    return model\n",
    "\n",
    "\n",
    "rnn_model = rnn_base_model()\n",
    "rnn_adam = tf.keras.optimizers.Adam(learning_rate=0.001) \n",
    "rnn_model.compile(\n",
    "    optimizer=rnn_adam, loss=\"sparse_categorical_crossentropy\", metrics=[\"accuracy\"]\n",
    ")\n",
    "rnn_model.summary()"
   ]
  },
  {
   "cell_type": "code",
   "execution_count": 198,
   "metadata": {},
   "outputs": [
    {
     "name": "stdout",
     "output_type": "stream",
     "text": [
      "Epoch 1/10\n",
      "444/444 [==============================] - 12s 21ms/step - loss: 1.2389 - accuracy: 0.5297 - val_loss: 0.5708 - val_accuracy: 0.8564\n",
      "Epoch 2/10\n",
      "444/444 [==============================] - 9s 20ms/step - loss: 0.5048 - accuracy: 0.8692 - val_loss: 0.4278 - val_accuracy: 0.8929\n",
      "Epoch 3/10\n",
      "444/444 [==============================] - 9s 20ms/step - loss: 0.3550 - accuracy: 0.9115 - val_loss: 0.3689 - val_accuracy: 0.9073\n",
      "Epoch 4/10\n",
      "444/444 [==============================] - 9s 20ms/step - loss: 0.2903 - accuracy: 0.9312 - val_loss: 0.3625 - val_accuracy: 0.9121\n",
      "Epoch 5/10\n",
      "444/444 [==============================] - 9s 20ms/step - loss: 0.2631 - accuracy: 0.9392 - val_loss: 0.3722 - val_accuracy: 0.9137\n",
      "Epoch 6/10\n",
      "444/444 [==============================] - 9s 20ms/step - loss: 0.2252 - accuracy: 0.9493 - val_loss: 0.3528 - val_accuracy: 0.9170\n",
      "Epoch 7/10\n",
      "444/444 [==============================] - 9s 20ms/step - loss: 0.2160 - accuracy: 0.9537 - val_loss: 0.3571 - val_accuracy: 0.9149\n",
      "Epoch 8/10\n",
      "444/444 [==============================] - 9s 20ms/step - loss: 0.2034 - accuracy: 0.9567 - val_loss: 0.3299 - val_accuracy: 0.9260\n",
      "Epoch 9/10\n",
      "444/444 [==============================] - 9s 20ms/step - loss: 0.2006 - accuracy: 0.9585 - val_loss: 0.3588 - val_accuracy: 0.9206\n",
      "Epoch 10/10\n",
      "444/444 [==============================] - 9s 20ms/step - loss: 0.1873 - accuracy: 0.9619 - val_loss: 0.3418 - val_accuracy: 0.9213\n"
     ]
    }
   ],
   "source": [
    "history = rnn_model.fit(\n",
    "    X_train_padded,\n",
    "    y_train,\n",
    "    epochs=10,\n",
    "    validation_data=(X_val_padded, y_val),\n",
    "    batch_size=64,\n",
    ")"
   ]
  },
  {
   "cell_type": "code",
   "execution_count": 199,
   "metadata": {},
   "outputs": [
    {
     "data": {
      "image/png": "[encoded data removed]",
      "text/plain": [
       "<Figure size 1200x400 with 2 Axes>"
      ]
     },
     "metadata": {},
     "output_type": "display_data"
    },
    {
     "name": "stdout",
     "output_type": "stream",
     "text": [
      "191/191 [==============================] - 1s 4ms/step\n"
     ]
    },
    {
     "data": {
      "image/png": "[encoded data removed]",
      "text/plain": [
       "<Figure size 800x600 with 2 Axes>"
      ]
     },
     "metadata": {},
     "output_type": "display_data"
    },
    {
     "name": "stdout",
     "output_type": "stream",
     "text": [
      "              precision    recall  f1-score   support\n",
      "\n",
      "           0       0.86      0.94      0.90       998\n",
      "           1       0.93      0.92      0.92      1041\n",
      "           2       0.94      0.88      0.91       957\n",
      "           3       0.93      0.95      0.94      1057\n",
      "           4       0.95      0.94      0.94      1005\n",
      "           5       0.96      0.93      0.95      1027\n",
      "\n",
      "    accuracy                           0.93      6085\n",
      "   macro avg       0.93      0.93      0.93      6085\n",
      "weighted avg       0.93      0.93      0.93      6085\n",
      "\n",
      "191/191 [==============================] - 1s 5ms/step - loss: 0.3138 - accuracy: 0.9260\n",
      "Test Loss: 0.3137998580932617\n",
      "Test Accuracy: 0.926047682762146\n"
     ]
    }
   ],
   "source": [
    "\n",
    "# plots training and validation accuracy and loss\n",
    "plt.figure(figsize=(12, 4))\n",
    "plt.subplot(1, 2, 1)\n",
    "plt.plot(history.history[\"accuracy\"], label=\"Training Accuracy\")\n",
    "plt.plot(history.history[\"val_accuracy\"], label=\"Validation Accuracy\")\n",
    "plt.title(\"Accuracy over Epochs\")\n",
    "plt.xlabel(\"Epoch\")\n",
    "plt.ylabel(\"Accuracy\")\n",
    "plt.legend()\n",
    "\n",
    "plt.subplot(1, 2, 2)\n",
    "plt.plot(history.history[\"loss\"], label=\"Training Loss\")\n",
    "plt.plot(history.history[\"val_loss\"], label=\"Validation Loss\")\n",
    "plt.title(\"Loss over Epochs\")\n",
    "plt.xlabel(\"Epoch\")\n",
    "plt.ylabel(\"Loss\")\n",
    "plt.legend()\n",
    "\n",
    "plt.show()\n",
    "\n",
    "# confusion matrix\n",
    "y_pred = rnn_model.predict(X_test_padded)\n",
    "y_pred = np.argmax(y_pred, axis=1)\n",
    "\n",
    "cm = confusion_matrix(y_test, y_pred)\n",
    "plt.figure(figsize=(8, 6))\n",
    "sns.heatmap(cm, annot=True, fmt='d', cmap='Blues')\n",
    "plt.title('Confusion Matrix')\n",
    "plt.ylabel('Actual Labels')\n",
    "plt.xlabel('Predicted Labels')\n",
    "plt.show()\n",
    "\n",
    "print(classification_report(y_test, y_pred))\n",
    "\n",
    "# test loss and accuracy evaluation\n",
    "test_loss, test_accuracy = rnn_model.evaluate(X_test_padded, y_test)\n",
    "print(f\"Test Loss: {test_loss}\")\n",
    "print(f\"Test Accuracy: {test_accuracy}\")"
   ]
  }
 ],
 "metadata": {
  "kernelspec": {
   "display_name": "Python 3",
   "language": "python",
   "name": "python3"
  },
  "language_info": {
   "codemirror_mode": {
    "name": "ipython",
    "version": 3
   },
   "file_extension": ".py",
   "mimetype": "text/x-python",
   "name": "python",
   "nbconvert_exporter": "python",
   "pygments_lexer": "ipython3",
   "version": "3.9.13"
  }
 },
 "nbformat": 4,
 "nbformat_minor": 2
}
