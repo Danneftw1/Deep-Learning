{
 "cells": [
  {
   "cell_type": "markdown",
   "metadata": {},
   "source": [
    "# RNN Labb (endast G)\n",
    "\n",
    "Ni ska skapa ett nätverk som kan klassificera känslor i text. Varje text består av en mening och har en känsla kopplad till sig. Datasetet som ska användas finns på ithsdistans. Koden ska skrivas i en jupyter notebook och den ska vara välstrukturerad och hålla god kod-kvalité. (T.ex. Använd väl valda variabelnamn och kommentarer där det behövs.)\n",
    "\n",
    "## Frågor:\n",
    "\n",
    "- **Motivera din modellarkitektur och val av relevanta hyperparametrar.**\n",
    "- **Vilka aktiveringsfunktioner har du använt? Varför?**\n",
    "- **Vilken loss funktion har du använt? Varför?**\n",
    "- **Har du använt någon databehandling? Motivera dina val.**\n",
    "- **Har du använt någon regulariseringsteknik? Motivera.**\n",
    "- **Hur har modellen utvärderats?**\n",
    "- **Är prestandan bra? Varför/ varför inte?**\n",
    "- **Vad hade du kunnat göra för att förbättra den ytterligare?**\n",
    "- **Generativ AI har blivit stort inom text. Beskriv skillnaden mellan generativ ai och mer traditionell ai.**"
   ]
  },
  {
   "cell_type": "markdown",
   "metadata": {},
   "source": [
    "*Funderingar*:\n",
    "\n",
    "- Ska jag göra någon data processing? Hur gör man det med RNN?\n",
    "\n",
    "- **RNN/LSTM/LSTM-GRU, vilken väljer jag?**\n",
    "    - RNN lider av vanishing gradient: svårt att lära sig beroenden över långa sekvenser\n",
    "    - LSTM är en avancerad variant av RNN, designad för att inte stöta på vanishing gradient\n",
    "    - LSTM-GRU: variant av RNN, liknande LSTM men med en enklare struktur.\n",
    "- **VAL**:\n",
    "    - **Enklare/Längre Sekvenser:** Grundläggande RNN\n",
    "    - **Komplex/Längre Sekvenser:** LSTM eller GRU\n",
    "    - **För Balans Mellan Prestanda & Komplexitet:** GRU, ofta enklare och snabbare att träna än LSTM, men har ändå relativt lika förmåner som LSTM.\n",
    "\n",
    "Jag tänker att jag börjar med en grundläggande RNN, då datasetet verkar inte jätte komplext.\n"
   ]
  },
  {
   "cell_type": "code",
   "execution_count": 38,
   "metadata": {},
   "outputs": [],
   "source": [
    "import pandas as pd\n",
    "from loguru import logger\n",
    "import tensorflow as tf\n",
    "from statistics import mean, median\n",
    "\n",
    "df = pd.read_csv(\"emotions.csv\")\n",
    "pd.set_option('display.max_colwidth', None) # to be able to read entire text"
   ]
  },
  {
   "cell_type": "code",
   "execution_count": null,
   "metadata": {},
   "outputs": [],
   "source": [
    "example_sentence = df[\"text\"]\n",
    "\n",
    "for i in range(30):\n",
    "    examples = example_sentence.iloc[i]\n",
    "    print(i + 1, len(examples))\n",
    "\n"
   ]
  },
  {
   "cell_type": "code",
   "execution_count": 99,
   "metadata": {},
   "outputs": [
    {
     "data": {
      "text/plain": [
       "100"
      ]
     },
     "execution_count": 99,
     "metadata": {},
     "output_type": "execute_result"
    }
   ],
   "source": [
    "len(example_sentence.iloc[9])"
   ]
  },
  {
   "cell_type": "code",
   "execution_count": 101,
   "metadata": {},
   "outputs": [
    {
     "name": "stdout",
     "output_type": "stream",
     "text": [
      "---LENGTH OF SENTENCES IN DATASET---\n",
      "Median Length: 86.0\n",
      "Average Length: 96.67005\n",
      "Smallest Length: 7\n",
      "Longest Length: 300\n",
      "\n",
      "Rows that are ABOVE 100 characters long: 8099\n",
      "Rows that are BELOW 100 characters long: 11901\n",
      "\n",
      "Example sentence with 100 character length:\n",
      " i the ultimate place to restore the peace to feel divine to kneel for worship and to attain hapiness\n"
     ]
    }
   ],
   "source": [
    "each_row = df[\"text\"]\n",
    "sentence_length = []\n",
    "\n",
    "for row, text in enumerate(each_row.iloc):\n",
    "    sentence_length.append(len(text))\n",
    "\n",
    "print(\"---LENGTH OF SENTENCES IN DATASET---\")\n",
    "print(f\"Median Length:\", median(sentence_length))\n",
    "print(f\"Average Length:\", mean(sentence_length))\n",
    "print(f\"Smallest Length:\", min(sentence_length))\n",
    "print(f\"Longest Length:\", max(sentence_length))\n",
    "\n",
    "above_100_length = [length >= 100 for length in sentence_length]\n",
    "is_above_100 = above_100_length.count(True)\n",
    "is_not_above_100 = above_100_length.count(False)\n",
    "\n",
    "print(f\"\\nRows that are ABOVE 100 characters long: {is_above_100}\")\n",
    "print(f\"Rows that are BELOW 100 characters long: {is_not_above_100}\")\n",
    "\n",
    "print(f\"\\nExample sentence with 100 character length:\\n\", example_sentence.iloc[9])"
   ]
  },
  {
   "cell_type": "markdown",
   "metadata": {},
   "source": [
    "Från den här informationen så verkar datasetet relativt simpelt, alltså en grundläggande RNN bör fungera, tror jag inte behöver använda mig utan LSTM eller LSTM-GRU"
   ]
  },
  {
   "cell_type": "code",
   "execution_count": 27,
   "metadata": {},
   "outputs": [
    {
     "name": "stdout",
     "output_type": "stream",
     "text": [
      "anger\n",
      "sadness\n",
      "joy\n",
      "love\n",
      "fear\n",
      "surprise\n",
      "\n",
      "joy         6761\n",
      "sadness     5797\n",
      "anger       2709\n",
      "fear        2373\n",
      "love        1641\n",
      "surprise     719\n",
      "Name: label, dtype: int64\n"
     ]
    }
   ],
   "source": [
    "emotions = df[\"label\"].unique()\n",
    "emotions_count = df[\"label\"].value_counts()\n",
    "\n",
    "for i in emotions:\n",
    "    print(i)\n",
    "\n",
    "print(f\"\\n{emotions_count}\")"
   ]
  }
 ],
 "metadata": {
  "kernelspec": {
   "display_name": "Python 3",
   "language": "python",
   "name": "python3"
  },
  "language_info": {
   "codemirror_mode": {
    "name": "ipython",
    "version": 3
   },
   "file_extension": ".py",
   "mimetype": "text/x-python",
   "name": "python",
   "nbconvert_exporter": "python",
   "pygments_lexer": "ipython3",
   "version": "3.9.13"
  }
 },
 "nbformat": 4,
 "nbformat_minor": 2
}
